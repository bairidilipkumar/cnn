{
 "cells": [
  {
   "cell_type": "code",
   "execution_count": 3,
   "metadata": {},
   "outputs": [
    {
     "name": "stdout",
     "output_type": "stream",
     "text": [
      "(60000, 28, 28) (60000,)\n"
     ]
    }
   ],
   "source": [
    "import keras\n",
    "from keras.datasets import mnist\n",
    "from keras.models import Sequential\n",
    "from keras.layers import Dense, Dropout, Flatten\n",
    "from keras.layers import Conv2D, MaxPooling2D\n",
    "from keras import backend as K\n",
    "\n",
    "# the data, split between train and test sets\n",
    "(x_train, y_train), (x_test, y_test) = mnist.load_data()\n",
    "\n",
    "print(x_train.shape, y_train.shape)"
   ]
  },
  {
   "cell_type": "code",
   "execution_count": 4,
   "metadata": {},
   "outputs": [
    {
     "name": "stdout",
     "output_type": "stream",
     "text": [
      "x_train shape: (60000, 28, 28, 1)\n",
      "60000 train samples\n",
      "10000 test samples\n"
     ]
    }
   ],
   "source": [
    "x_train = x_train.reshape(x_train.shape[0], 28, 28, 1)\n",
    "x_test = x_test.reshape(x_test.shape[0], 28, 28, 1)\n",
    "input_shape = (28, 28, 1) \n",
    "\n",
    "# convert class vectors to binary class matrices\n",
    "y_train = keras.utils.to_categorical(y_train, num_classes)\n",
    "y_test = keras.utils.to_categorical(y_test, num_classes)\n",
    "\n",
    "x_train = x_train.astype('float32')\n",
    "x_test = x_test.astype('float32')\n",
    "x_train /= 255\n",
    "x_test /= 255\n",
    "print('x_train shape:', x_train.shape)\n",
    "print(x_train.shape[0], 'train samples')\n",
    "print(x_test.shape[0], 'test samples')"
   ]
  },
  {
   "cell_type": "code",
   "execution_count": 5,
   "metadata": {},
   "outputs": [],
   "source": [
    "batch_size = 128\n",
    "num_classes = 10\n",
    "epochs = 20\n",
    "\n",
    "model = Sequential()\n",
    "model.add(Conv2D(32, kernel_size=(3, 3),activation='relu',input_shape=input_shape))\n",
    "model.add(Conv2D(64, (3, 3), activation='relu'))\n",
    "model.add(MaxPooling2D(pool_size=(2, 2)))\n",
    "model.add(Dropout(0.25))\n",
    "model.add(Flatten())\n",
    "model.add(Dense(256, activation='relu'))\n",
    "model.add(Dropout(0.5))\n",
    "model.add(Dense(num_classes, activation='softmax'))\n",
    "\n",
    "model.compile(loss=keras.losses.categorical_crossentropy,optimizer=keras.optimizers.Adadelta(),metrics=['accuracy'])"
   ]
  },
  {
   "cell_type": "code",
   "execution_count": 6,
   "metadata": {},
   "outputs": [
    {
     "name": "stdout",
     "output_type": "stream",
     "text": [
      "Epoch 1/20\n",
      "469/469 [==============================] - 113s 235ms/step - loss: 2.2879 - accuracy: 0.1393 - val_loss: 2.2083 - val_accuracy: 0.4580\n",
      "Epoch 2/20\n",
      "469/469 [==============================] - 120s 256ms/step - loss: 2.1979 - accuracy: 0.3159 - val_loss: 2.0875 - val_accuracy: 0.5813\n",
      "Epoch 3/20\n",
      "469/469 [==============================] - 106s 226ms/step - loss: 2.0793 - accuracy: 0.4518 - val_loss: 1.9228 - val_accuracy: 0.6484\n",
      "Epoch 4/20\n",
      "469/469 [==============================] - 175s 373ms/step - loss: 1.9155 - accuracy: 0.5412 - val_loss: 1.7031 - val_accuracy: 0.6963\n",
      "Epoch 5/20\n",
      "469/469 [==============================] - 266s 566ms/step - loss: 1.7063 - accuracy: 0.5943 - val_loss: 1.4397 - val_accuracy: 0.7342\n",
      "Epoch 6/20\n",
      "469/469 [==============================] - 205s 436ms/step - loss: 1.4726 - accuracy: 0.6372 - val_loss: 1.1803 - val_accuracy: 0.7704\n",
      "Epoch 7/20\n",
      "469/469 [==============================] - 209s 446ms/step - loss: 1.2600 - accuracy: 0.6706 - val_loss: 0.9735 - val_accuracy: 0.7967\n",
      "Epoch 8/20\n",
      "469/469 [==============================] - 199s 424ms/step - loss: 1.0861 - accuracy: 0.7008 - val_loss: 0.8264 - val_accuracy: 0.8155\n",
      "Epoch 9/20\n",
      "469/469 [==============================] - 231s 492ms/step - loss: 0.9714 - accuracy: 0.7205 - val_loss: 0.7239 - val_accuracy: 0.8265\n",
      "Epoch 10/20\n",
      "469/469 [==============================] - 219s 468ms/step - loss: 0.8787 - accuracy: 0.7390 - val_loss: 0.6504 - val_accuracy: 0.8399\n",
      "Epoch 11/20\n",
      "469/469 [==============================] - 217s 463ms/step - loss: 0.8065 - accuracy: 0.7593 - val_loss: 0.5953 - val_accuracy: 0.8496\n",
      "Epoch 12/20\n",
      "469/469 [==============================] - 210s 449ms/step - loss: 0.7556 - accuracy: 0.7675 - val_loss: 0.5542 - val_accuracy: 0.8573\n",
      "Epoch 13/20\n",
      "469/469 [==============================] - 201s 428ms/step - loss: 0.7222 - accuracy: 0.7800 - val_loss: 0.5209 - val_accuracy: 0.8650\n",
      "Epoch 14/20\n",
      "469/469 [==============================] - 119s 253ms/step - loss: 0.6869 - accuracy: 0.7896 - val_loss: 0.4944 - val_accuracy: 0.8714\n",
      "Epoch 15/20\n",
      "469/469 [==============================] - 118s 252ms/step - loss: 0.6584 - accuracy: 0.7976 - val_loss: 0.4725 - val_accuracy: 0.8755\n",
      "Epoch 16/20\n",
      "469/469 [==============================] - 119s 255ms/step - loss: 0.6296 - accuracy: 0.8066 - val_loss: 0.4534 - val_accuracy: 0.8788\n",
      "Epoch 17/20\n",
      "469/469 [==============================] - 120s 255ms/step - loss: 0.6076 - accuracy: 0.8149 - val_loss: 0.4373 - val_accuracy: 0.8816\n",
      "Epoch 18/20\n",
      "469/469 [==============================] - 119s 254ms/step - loss: 0.5869 - accuracy: 0.8196 - val_loss: 0.4230 - val_accuracy: 0.8854\n",
      "Epoch 19/20\n",
      "469/469 [==============================] - 119s 255ms/step - loss: 0.5696 - accuracy: 0.8266 - val_loss: 0.4112 - val_accuracy: 0.8874\n",
      "Epoch 20/20\n",
      "469/469 [==============================] - 119s 254ms/step - loss: 0.5611 - accuracy: 0.8279 - val_loss: 0.4002 - val_accuracy: 0.8895\n",
      "The model has successfully trained\n",
      "Saving the model as mnist.h5\n"
     ]
    }
   ],
   "source": [
    "hist = model.fit(x_train, y_train,batch_size=batch_size,epochs=epochs,verbose=1,validation_data=(x_test, y_test))\n",
    "print(\"The model has successfully trained\")\n",
    "\n",
    "model.save('mnist.h5')\n",
    "print(\"Saving the model as mnist.h5\")"
   ]
  },
  {
   "cell_type": "code",
   "execution_count": null,
   "metadata": {},
   "outputs": [],
   "source": [
    "from keras.models import load_model\n",
    "from tkinter import *\n",
    "import tkinter as tk\n",
    "import win32gui\n",
    "from PIL import ImageGrab, Image\n",
    "import numpy as np\n",
    "\n",
    "model = load_model('mnist.h5')\n",
    "\n",
    "def predict_digit(img):\n",
    "    #resizeing image to 28x28 pixels\n",
    "    img = img.resize((28,28))\n",
    "    #convert rgb to grayscale\n",
    "    img = img.convert('L')\n",
    "    img = np.array(img)\n",
    "    #reshaping to support our model input and normalizing\n",
    "    img = img.reshape(1,28,28,1)\n",
    "    img = img/255.0\n",
    "    #predicting the class\n",
    "    res = model.predict([img])[0]\n",
    "    return np.argmax(res), max(res)\n",
    "\n",
    "class App(tk.Tk):\n",
    "    def __init__(self):\n",
    "        tk.Tk.__init__(self)\n",
    "\n",
    "        self.x = self.y = 0\n",
    "\n",
    "        # Creating elements\n",
    "        self.canvas = tk.Canvas(self, width=300, height=300, bg = \"black\", cursor=\"cross\")\n",
    "        self.label = tk.Label(self, text=\"Draw..\", font=(\"Helvetica\", 48))\n",
    "        self.classify_btn = tk.Button(self, text = \"Recognise\", command =  self.classify_handwriting) \n",
    "        self.button_clear = tk.Button(self, text = \"Clear\", command = self.clear_all)\n",
    "\n",
    "        # Grid structure\n",
    "        self.canvas.grid(row=0, column=0, pady=2, sticky=W, )\n",
    "        self.label.grid(row=0, column=1,pady=2, padx=2)\n",
    "        self.classify_btn.grid(row=1, column=1, pady=2, padx=2)\n",
    "        self.button_clear.grid(row=1, column=0, pady=2)\n",
    "\n",
    "        #self.canvas.bind(\"<Motion>\", self.start_pos)\n",
    "        self.canvas.bind(\"<B1-Motion>\", self.draw_lines)\n",
    "\n",
    "    def clear_all(self):\n",
    "        self.canvas.delete(\"all\")\n",
    "\n",
    "    def classify_handwriting(self):\n",
    "        HWND = self.canvas.winfo_id() # get the handle of the canvas\n",
    "        rect = win32gui.GetWindowRect(HWND) # get the coordinate of the canvas\n",
    "        im = ImageGrab.grab(rect)\n",
    "\n",
    "        digit, acc = predict_digit(im)\n",
    "        self.label.configure(text= str(digit)+', '+ str(int(acc*100))+'%')\n",
    "\n",
    "    def draw_lines(self, event):\n",
    "        self.x = event.x\n",
    "        self.y = event.y\n",
    "        r=8\n",
    "        self.canvas.create_oval(self.x-r, self.y-r, self.x + r, self.y + r, fill='white')\n",
    "\n",
    "app = App()\n",
    "mainloop()"
   ]
  },
  {
   "cell_type": "code",
   "execution_count": null,
   "metadata": {},
   "outputs": [],
   "source": []
  }
 ],
 "metadata": {
  "kernelspec": {
   "display_name": "Python 3",
   "language": "python",
   "name": "python3"
  },
  "language_info": {
   "codemirror_mode": {
    "name": "ipython",
    "version": 3
   },
   "file_extension": ".py",
   "mimetype": "text/x-python",
   "name": "python",
   "nbconvert_exporter": "python",
   "pygments_lexer": "ipython3",
   "version": "3.8.3"
  }
 },
 "nbformat": 4,
 "nbformat_minor": 5
}
